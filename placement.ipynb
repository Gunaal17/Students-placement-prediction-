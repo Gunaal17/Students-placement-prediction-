{
 "cells": [
  {
   "cell_type": "code",
   "execution_count": 1,
   "id": "6fa60192",
   "metadata": {
    "executionInfo": {
     "elapsed": 39,
     "status": "ok",
     "timestamp": 1696820631836,
     "user": {
      "displayName": "21DSC205 M.GUNAAL",
      "userId": "04179252142214467485"
     },
     "user_tz": -330
    },
    "id": "6fa60192"
   },
   "outputs": [],
   "source": [
    "import pandas as pd\n",
    "import numpy as np\n",
    "import seaborn as sns\n",
    "import matplotlib.pyplot as plt\n",
    "import sklearn\n",
    "from sklearn.model_selection import train_test_split\n",
    "from sklearn.preprocessing import StandardScaler\n",
    "from sklearn.metrics import accuracy_score\n",
    "from sklearn.model_selection import cross_val_score\n",
    "from sklearn.model_selection import GridSearchCV"
   ]
  },
  {
   "cell_type": "code",
   "execution_count": 2,
   "id": "2882655b",
   "metadata": {
    "colab": {
     "base_uri": "https://localhost:8080/",
     "height": 278
    },
    "executionInfo": {
     "elapsed": 3927,
     "status": "ok",
     "timestamp": 1696820630434,
     "user": {
      "displayName": "21DSC205 M.GUNAAL",
      "userId": "04179252142214467485"
     },
     "user_tz": -330
    },
    "id": "2882655b",
    "outputId": "89840dda-d023-4b5a-ec92-d95ee29548da"
   },
   "outputs": [
    {
     "data": {
      "text/html": [
       "<div>\n",
       "<style scoped>\n",
       "    .dataframe tbody tr th:only-of-type {\n",
       "        vertical-align: middle;\n",
       "    }\n",
       "\n",
       "    .dataframe tbody tr th {\n",
       "        vertical-align: top;\n",
       "    }\n",
       "\n",
       "    .dataframe thead th {\n",
       "        text-align: right;\n",
       "    }\n",
       "</style>\n",
       "<table border=\"1\" class=\"dataframe\">\n",
       "  <thead>\n",
       "    <tr style=\"text-align: right;\">\n",
       "      <th></th>\n",
       "      <th>S.No</th>\n",
       "      <th>Gender</th>\n",
       "      <th>sse_p</th>\n",
       "      <th>hse_p</th>\n",
       "      <th>Board of Education</th>\n",
       "      <th>Specialization in HSE</th>\n",
       "      <th>Degree_p</th>\n",
       "      <th>Degree Type</th>\n",
       "      <th>No. of Internships</th>\n",
       "      <th>Work Experience</th>\n",
       "      <th>CGPA</th>\n",
       "      <th>No. of Arrears</th>\n",
       "      <th>Status</th>\n",
       "    </tr>\n",
       "  </thead>\n",
       "  <tbody>\n",
       "    <tr>\n",
       "      <th>0</th>\n",
       "      <td>1</td>\n",
       "      <td>Male</td>\n",
       "      <td>62.0</td>\n",
       "      <td>93.9</td>\n",
       "      <td>CBSE</td>\n",
       "      <td>Commerce</td>\n",
       "      <td>86.3</td>\n",
       "      <td>B.Sc</td>\n",
       "      <td>0</td>\n",
       "      <td>Yes</td>\n",
       "      <td>7.5</td>\n",
       "      <td>7</td>\n",
       "      <td>Placed</td>\n",
       "    </tr>\n",
       "    <tr>\n",
       "      <th>1</th>\n",
       "      <td>2</td>\n",
       "      <td>Male</td>\n",
       "      <td>75.2</td>\n",
       "      <td>78.2</td>\n",
       "      <td>CBSE</td>\n",
       "      <td>Commerce</td>\n",
       "      <td>67.2</td>\n",
       "      <td>B.Sc</td>\n",
       "      <td>2</td>\n",
       "      <td>No</td>\n",
       "      <td>6.0</td>\n",
       "      <td>9</td>\n",
       "      <td>Not Placed</td>\n",
       "    </tr>\n",
       "    <tr>\n",
       "      <th>2</th>\n",
       "      <td>3</td>\n",
       "      <td>Female</td>\n",
       "      <td>68.5</td>\n",
       "      <td>86.5</td>\n",
       "      <td>CBSE</td>\n",
       "      <td>Arts</td>\n",
       "      <td>94.0</td>\n",
       "      <td>B.Tech</td>\n",
       "      <td>4</td>\n",
       "      <td>No</td>\n",
       "      <td>7.0</td>\n",
       "      <td>7</td>\n",
       "      <td>Not Placed</td>\n",
       "    </tr>\n",
       "    <tr>\n",
       "      <th>3</th>\n",
       "      <td>4</td>\n",
       "      <td>Male</td>\n",
       "      <td>73.1</td>\n",
       "      <td>85.7</td>\n",
       "      <td>ICSE</td>\n",
       "      <td>Arts</td>\n",
       "      <td>60.6</td>\n",
       "      <td>B.Tech</td>\n",
       "      <td>4</td>\n",
       "      <td>No</td>\n",
       "      <td>9.9</td>\n",
       "      <td>4</td>\n",
       "      <td>Placed</td>\n",
       "    </tr>\n",
       "    <tr>\n",
       "      <th>4</th>\n",
       "      <td>5</td>\n",
       "      <td>Male</td>\n",
       "      <td>90.4</td>\n",
       "      <td>83.9</td>\n",
       "      <td>State Board</td>\n",
       "      <td>Arts</td>\n",
       "      <td>68.3</td>\n",
       "      <td>B.Tech</td>\n",
       "      <td>3</td>\n",
       "      <td>Yes</td>\n",
       "      <td>9.9</td>\n",
       "      <td>9</td>\n",
       "      <td>Placed</td>\n",
       "    </tr>\n",
       "  </tbody>\n",
       "</table>\n",
       "</div>"
      ],
      "text/plain": [
       "   S.No  Gender  sse_p  hse_p Board of Education Specialization in HSE  \\\n",
       "0     1    Male   62.0   93.9               CBSE              Commerce   \n",
       "1     2    Male   75.2   78.2               CBSE              Commerce   \n",
       "2     3  Female   68.5   86.5               CBSE                  Arts   \n",
       "3     4    Male   73.1   85.7               ICSE                  Arts   \n",
       "4     5    Male   90.4   83.9        State Board                  Arts   \n",
       "\n",
       "   Degree_p Degree Type  No. of Internships Work Experience  CGPA  \\\n",
       "0      86.3        B.Sc                   0             Yes   7.5   \n",
       "1      67.2        B.Sc                   2              No   6.0   \n",
       "2      94.0      B.Tech                   4              No   7.0   \n",
       "3      60.6      B.Tech                   4              No   9.9   \n",
       "4      68.3      B.Tech                   3             Yes   9.9   \n",
       "\n",
       "   No. of Arrears      Status  \n",
       "0               7      Placed  \n",
       "1               9  Not Placed  \n",
       "2               7  Not Placed  \n",
       "3               4      Placed  \n",
       "4               9      Placed  "
      ]
     },
     "execution_count": 2,
     "metadata": {},
     "output_type": "execute_result"
    }
   ],
   "source": [
    "df = pd.read_excel(\"placements_dataset.xlsx\")\n",
    "df.head()"
   ]
  },
  {
   "cell_type": "code",
   "execution_count": 3,
   "id": "L2e0wtzyssDx",
   "metadata": {
    "executionInfo": {
     "elapsed": 796,
     "status": "ok",
     "timestamp": 1696820643516,
     "user": {
      "displayName": "21DSC205 M.GUNAAL",
      "userId": "04179252142214467485"
     },
     "user_tz": -330
    },
    "id": "L2e0wtzyssDx"
   },
   "outputs": [],
   "source": [
    "df1 = df.copy()"
   ]
  },
  {
   "cell_type": "code",
   "execution_count": 4,
   "id": "99bc4423",
   "metadata": {
    "colab": {
     "base_uri": "https://localhost:8080/"
    },
    "executionInfo": {
     "elapsed": 979,
     "status": "ok",
     "timestamp": 1696820646657,
     "user": {
      "displayName": "21DSC205 M.GUNAAL",
      "userId": "04179252142214467485"
     },
     "user_tz": -330
    },
    "id": "99bc4423",
    "outputId": "9f7d8928-10c1-42f0-8ae2-7a73262bc34f"
   },
   "outputs": [
    {
     "data": {
      "text/plain": [
       "(500, 13)"
      ]
     },
     "execution_count": 4,
     "metadata": {},
     "output_type": "execute_result"
    }
   ],
   "source": [
    "df1.shape"
   ]
  },
  {
   "cell_type": "code",
   "execution_count": 5,
   "id": "zKz36bjNcWZy",
   "metadata": {
    "colab": {
     "base_uri": "https://localhost:8080/"
    },
    "executionInfo": {
     "elapsed": 19,
     "status": "ok",
     "timestamp": 1696820647459,
     "user": {
      "displayName": "21DSC205 M.GUNAAL",
      "userId": "04179252142214467485"
     },
     "user_tz": -330
    },
    "id": "zKz36bjNcWZy",
    "outputId": "a1e79c30-c250-4dfd-9572-abd59b03f087"
   },
   "outputs": [
    {
     "name": "stdout",
     "output_type": "stream",
     "text": [
      "<class 'pandas.core.frame.DataFrame'>\n",
      "RangeIndex: 500 entries, 0 to 499\n",
      "Data columns (total 13 columns):\n",
      " #   Column                 Non-Null Count  Dtype  \n",
      "---  ------                 --------------  -----  \n",
      " 0   S.No                   500 non-null    int64  \n",
      " 1   Gender                 500 non-null    object \n",
      " 2   sse_p                  500 non-null    float64\n",
      " 3   hse_p                  500 non-null    float64\n",
      " 4   Board of Education     500 non-null    object \n",
      " 5   Specialization in HSE  500 non-null    object \n",
      " 6   Degree_p               500 non-null    float64\n",
      " 7   Degree Type            500 non-null    object \n",
      " 8   No. of Internships     500 non-null    int64  \n",
      " 9   Work Experience        500 non-null    object \n",
      " 10  CGPA                   500 non-null    float64\n",
      " 11  No. of Arrears         500 non-null    int64  \n",
      " 12  Status                 500 non-null    object \n",
      "dtypes: float64(4), int64(3), object(6)\n",
      "memory usage: 50.9+ KB\n"
     ]
    }
   ],
   "source": [
    "df1.info()"
   ]
  },
  {
   "cell_type": "code",
   "execution_count": 6,
   "id": "bf958477",
   "metadata": {
    "colab": {
     "base_uri": "https://localhost:8080/"
    },
    "executionInfo": {
     "elapsed": 17,
     "status": "ok",
     "timestamp": 1696820650002,
     "user": {
      "displayName": "21DSC205 M.GUNAAL",
      "userId": "04179252142214467485"
     },
     "user_tz": -330
    },
    "id": "bf958477",
    "outputId": "00ebbd5c-3a3f-46fd-c4a9-3703f7f30560"
   },
   "outputs": [
    {
     "data": {
      "text/plain": [
       "S.No                     0\n",
       "Gender                   0\n",
       "sse_p                    0\n",
       "hse_p                    0\n",
       "Board of Education       0\n",
       "Specialization in HSE    0\n",
       "Degree_p                 0\n",
       "Degree Type              0\n",
       "No. of Internships       0\n",
       "Work Experience          0\n",
       "CGPA                     0\n",
       "No. of Arrears           0\n",
       "Status                   0\n",
       "dtype: int64"
      ]
     },
     "execution_count": 6,
     "metadata": {},
     "output_type": "execute_result"
    }
   ],
   "source": [
    "df1.isnull().sum()"
   ]
  },
  {
   "cell_type": "code",
   "execution_count": 7,
   "id": "yorq-d84tNOy",
   "metadata": {
    "executionInfo": {
     "elapsed": 11,
     "status": "ok",
     "timestamp": 1696820651118,
     "user": {
      "displayName": "21DSC205 M.GUNAAL",
      "userId": "04179252142214467485"
     },
     "user_tz": -330
    },
    "id": "yorq-d84tNOy"
   },
   "outputs": [],
   "source": [
    "df1.drop([\"S.No\",\"Board of Education\"],axis=1,inplace=True)"
   ]
  },
  {
   "cell_type": "code",
   "execution_count": 8,
   "id": "MfXhl9ZqdMqG",
   "metadata": {
    "colab": {
     "base_uri": "https://localhost:8080/",
     "height": 1000
    },
    "executionInfo": {
     "elapsed": 743,
     "status": "error",
     "timestamp": 1696820654354,
     "user": {
      "displayName": "21DSC205 M.GUNAAL",
      "userId": "04179252142214467485"
     },
     "user_tz": -330
    },
    "id": "MfXhl9ZqdMqG",
    "outputId": "8d689f68-c334-4c6c-e1f2-fbfdd4fea26f"
   },
   "outputs": [
    {
     "data": {
      "text/plain": [
       "Text(0.5, 1.0, 'CGPA')"
      ]
     },
     "execution_count": 8,
     "metadata": {},
     "output_type": "execute_result"
    },
    {
     "data": {
      "image/png": "[encoded data removed]",
      "text/plain": [
       "<Figure size 1500x1000 with 5 Axes>"
      ]
     },
     "metadata": {},
     "output_type": "display_data"
    }
   ],
   "source": [
    "plt.figure(figsize = (15,10))\n",
    "\n",
    "ax = plt.subplot(321)\n",
    "plt.boxplot(df1['sse_p'])\n",
    "ax.set_title('Secondary School Percentage')\n",
    "\n",
    "ax = plt.subplot(322)\n",
    "plt.boxplot(df1['hse_p'])\n",
    "ax.set_title('Higher secondary Percentage')\n",
    "\n",
    "ax = plt.subplot(323)\n",
    "plt.boxplot(df1['Degree_p'])\n",
    "ax.set_title('UG Percentage')\n",
    "\n",
    "ax = plt.subplot(324)\n",
    "plt.boxplot(df1['No. of Internships'])\n",
    "ax.set_title('No. of Internships completed')\n",
    "\n",
    "ax = plt.subplot(325)\n",
    "plt.boxplot(df1['No. of Arrears'])\n",
    "ax.set_title('Number of Arrears')\n",
    "\n",
    "ax = plt.subplot(323)\n",
    "plt.boxplot(df1['CGPA'])\n",
    "ax.set_title('CGPA')"
   ]
  },
  {
   "cell_type": "code",
   "execution_count": 9,
   "id": "LhEUIH83thJI",
   "metadata": {
    "colab": {
     "base_uri": "https://localhost:8080/",
     "height": 175
    },
    "executionInfo": {
     "elapsed": 1543,
     "status": "ok",
     "timestamp": 1696820659816,
     "user": {
      "displayName": "21DSC205 M.GUNAAL",
      "userId": "04179252142214467485"
     },
     "user_tz": -330
    },
    "id": "LhEUIH83thJI",
    "outputId": "cf2b3422-f96c-4d5f-b996-4e9ebafed6c5"
   },
   "outputs": [
    {
     "data": {
      "image/png": "[encoded data removed]",
      "text/plain": [
       "<Figure size 1500x700 with 6 Axes>"
      ]
     },
     "metadata": {},
     "output_type": "display_data"
    }
   ],
   "source": [
    "plt.figure(figsize = (15,7))\n",
    "\n",
    "plt.subplot(231)\n",
    "ax = sns.countplot(x= 'Gender' , data = df1)\n",
    "\n",
    "plt.subplot(232)\n",
    "ax = sns.countplot(x= 'Specialization in HSE', data = df1)\n",
    "\n",
    "plt.subplot(233)\n",
    "ax = sns.countplot(x= 'Degree Type' , data = df1)\n",
    "\n",
    "plt.subplot(234)\n",
    "ax = sns.countplot(x= 'No. of Arrears' , data =df1)\n",
    "\n",
    "plt.subplot(235)\n",
    "ax = sns.countplot(x= 'No. of Internships' , data = df1)\n",
    "\n",
    "plt.subplot(236)\n",
    "ax = sns.countplot(x= 'Work Experience', data = df1)"
   ]
  },
  {
   "cell_type": "code",
   "execution_count": 10,
   "id": "_5jN8aw1gVeK",
   "metadata": {
    "colab": {
     "base_uri": "https://localhost:8080/",
     "height": 400
    },
    "executionInfo": {
     "elapsed": 42,
     "status": "ok",
     "timestamp": 1696820665977,
     "user": {
      "displayName": "21DSC205 M.GUNAAL",
      "userId": "04179252142214467485"
     },
     "user_tz": -330
    },
    "id": "_5jN8aw1gVeK",
    "outputId": "9578013d-32a1-4595-c13f-76f0a461d49f"
   },
   "outputs": [
    {
     "data": {
      "text/html": [
       "<div>\n",
       "<style scoped>\n",
       "    .dataframe tbody tr th:only-of-type {\n",
       "        vertical-align: middle;\n",
       "    }\n",
       "\n",
       "    .dataframe tbody tr th {\n",
       "        vertical-align: top;\n",
       "    }\n",
       "\n",
       "    .dataframe thead th {\n",
       "        text-align: right;\n",
       "    }\n",
       "</style>\n",
       "<table border=\"1\" class=\"dataframe\">\n",
       "  <thead>\n",
       "    <tr style=\"text-align: right;\">\n",
       "      <th></th>\n",
       "      <th>Gender</th>\n",
       "      <th>sse_p</th>\n",
       "      <th>hse_p</th>\n",
       "      <th>Specialization in HSE</th>\n",
       "      <th>Degree_p</th>\n",
       "      <th>Degree Type</th>\n",
       "      <th>No. of Internships</th>\n",
       "      <th>Work Experience</th>\n",
       "      <th>CGPA</th>\n",
       "      <th>No. of Arrears</th>\n",
       "      <th>Status</th>\n",
       "    </tr>\n",
       "  </thead>\n",
       "  <tbody>\n",
       "    <tr>\n",
       "      <th>0</th>\n",
       "      <td>1</td>\n",
       "      <td>62.0</td>\n",
       "      <td>93.9</td>\n",
       "      <td>1</td>\n",
       "      <td>86.3</td>\n",
       "      <td>1</td>\n",
       "      <td>0</td>\n",
       "      <td>1</td>\n",
       "      <td>7.5</td>\n",
       "      <td>7</td>\n",
       "      <td>1</td>\n",
       "    </tr>\n",
       "    <tr>\n",
       "      <th>1</th>\n",
       "      <td>1</td>\n",
       "      <td>75.2</td>\n",
       "      <td>78.2</td>\n",
       "      <td>1</td>\n",
       "      <td>67.2</td>\n",
       "      <td>1</td>\n",
       "      <td>2</td>\n",
       "      <td>0</td>\n",
       "      <td>6.0</td>\n",
       "      <td>9</td>\n",
       "      <td>0</td>\n",
       "    </tr>\n",
       "    <tr>\n",
       "      <th>2</th>\n",
       "      <td>0</td>\n",
       "      <td>68.5</td>\n",
       "      <td>86.5</td>\n",
       "      <td>0</td>\n",
       "      <td>94.0</td>\n",
       "      <td>2</td>\n",
       "      <td>4</td>\n",
       "      <td>0</td>\n",
       "      <td>7.0</td>\n",
       "      <td>7</td>\n",
       "      <td>0</td>\n",
       "    </tr>\n",
       "    <tr>\n",
       "      <th>3</th>\n",
       "      <td>1</td>\n",
       "      <td>73.1</td>\n",
       "      <td>85.7</td>\n",
       "      <td>0</td>\n",
       "      <td>60.6</td>\n",
       "      <td>2</td>\n",
       "      <td>4</td>\n",
       "      <td>0</td>\n",
       "      <td>9.9</td>\n",
       "      <td>4</td>\n",
       "      <td>1</td>\n",
       "    </tr>\n",
       "    <tr>\n",
       "      <th>4</th>\n",
       "      <td>1</td>\n",
       "      <td>90.4</td>\n",
       "      <td>83.9</td>\n",
       "      <td>0</td>\n",
       "      <td>68.3</td>\n",
       "      <td>2</td>\n",
       "      <td>3</td>\n",
       "      <td>1</td>\n",
       "      <td>9.9</td>\n",
       "      <td>9</td>\n",
       "      <td>1</td>\n",
       "    </tr>\n",
       "    <tr>\n",
       "      <th>5</th>\n",
       "      <td>1</td>\n",
       "      <td>75.2</td>\n",
       "      <td>60.9</td>\n",
       "      <td>1</td>\n",
       "      <td>65.8</td>\n",
       "      <td>1</td>\n",
       "      <td>5</td>\n",
       "      <td>1</td>\n",
       "      <td>8.7</td>\n",
       "      <td>7</td>\n",
       "      <td>1</td>\n",
       "    </tr>\n",
       "    <tr>\n",
       "      <th>6</th>\n",
       "      <td>1</td>\n",
       "      <td>90.1</td>\n",
       "      <td>91.5</td>\n",
       "      <td>2</td>\n",
       "      <td>92.8</td>\n",
       "      <td>2</td>\n",
       "      <td>0</td>\n",
       "      <td>0</td>\n",
       "      <td>9.0</td>\n",
       "      <td>3</td>\n",
       "      <td>0</td>\n",
       "    </tr>\n",
       "    <tr>\n",
       "      <th>7</th>\n",
       "      <td>1</td>\n",
       "      <td>93.3</td>\n",
       "      <td>69.7</td>\n",
       "      <td>0</td>\n",
       "      <td>92.8</td>\n",
       "      <td>1</td>\n",
       "      <td>3</td>\n",
       "      <td>1</td>\n",
       "      <td>6.6</td>\n",
       "      <td>5</td>\n",
       "      <td>1</td>\n",
       "    </tr>\n",
       "    <tr>\n",
       "      <th>8</th>\n",
       "      <td>0</td>\n",
       "      <td>70.1</td>\n",
       "      <td>65.0</td>\n",
       "      <td>1</td>\n",
       "      <td>97.2</td>\n",
       "      <td>2</td>\n",
       "      <td>5</td>\n",
       "      <td>1</td>\n",
       "      <td>6.6</td>\n",
       "      <td>0</td>\n",
       "      <td>1</td>\n",
       "    </tr>\n",
       "    <tr>\n",
       "      <th>9</th>\n",
       "      <td>1</td>\n",
       "      <td>63.3</td>\n",
       "      <td>82.6</td>\n",
       "      <td>1</td>\n",
       "      <td>72.0</td>\n",
       "      <td>2</td>\n",
       "      <td>1</td>\n",
       "      <td>1</td>\n",
       "      <td>8.3</td>\n",
       "      <td>2</td>\n",
       "      <td>1</td>\n",
       "    </tr>\n",
       "  </tbody>\n",
       "</table>\n",
       "</div>"
      ],
      "text/plain": [
       "   Gender  sse_p  hse_p  Specialization in HSE  Degree_p  Degree Type  \\\n",
       "0       1   62.0   93.9                      1      86.3            1   \n",
       "1       1   75.2   78.2                      1      67.2            1   \n",
       "2       0   68.5   86.5                      0      94.0            2   \n",
       "3       1   73.1   85.7                      0      60.6            2   \n",
       "4       1   90.4   83.9                      0      68.3            2   \n",
       "5       1   75.2   60.9                      1      65.8            1   \n",
       "6       1   90.1   91.5                      2      92.8            2   \n",
       "7       1   93.3   69.7                      0      92.8            1   \n",
       "8       0   70.1   65.0                      1      97.2            2   \n",
       "9       1   63.3   82.6                      1      72.0            2   \n",
       "\n",
       "   No. of Internships  Work Experience  CGPA  No. of Arrears  Status  \n",
       "0                   0                1   7.5               7       1  \n",
       "1                   2                0   6.0               9       0  \n",
       "2                   4                0   7.0               7       0  \n",
       "3                   4                0   9.9               4       1  \n",
       "4                   3                1   9.9               9       1  \n",
       "5                   5                1   8.7               7       1  \n",
       "6                   0                0   9.0               3       0  \n",
       "7                   3                1   6.6               5       1  \n",
       "8                   5                1   6.6               0       1  \n",
       "9                   1                1   8.3               2       1  "
      ]
     },
     "execution_count": 10,
     "metadata": {},
     "output_type": "execute_result"
    }
   ],
   "source": [
    "#Label Encoding\n",
    "from sklearn.preprocessing import LabelEncoder\n",
    "\n",
    "object_cols= ['Gender','Degree Type','Work Experience','Specialization in HSE','Status']\n",
    "\n",
    "label_encoder = LabelEncoder()\n",
    "\n",
    "for col in object_cols:\n",
    "    df1[col]= label_encoder.fit_transform(df1[col])\n",
    "\n",
    "df1.head(10)"
   ]
  },
  {
   "cell_type": "code",
   "execution_count": 11,
   "id": "835dda55",
   "metadata": {},
   "outputs": [],
   "source": [
    "X=df1.drop('Status',axis=1)\n",
    "y=df1['Status']"
   ]
  },
  {
   "cell_type": "code",
   "execution_count": null,
   "id": "pCGc3Qez-gvz",
   "metadata": {
    "colab": {
     "base_uri": "https://localhost:8080/",
     "height": 367
    },
    "executionInfo": {
     "elapsed": 115980,
     "status": "error",
     "timestamp": 1696821017430,
     "user": {
      "displayName": "21DSC205 M.GUNAAL",
      "userId": "04179252142214467485"
     },
     "user_tz": -330
    },
    "id": "pCGc3Qez-gvz",
    "outputId": "8ded408b-c15e-4c63-94ea-5f0edaed4385"
   },
   "outputs": [],
   "source": [
    "from sklearn.ensemble import RandomForestClassifier\n",
    "\n",
    "# Splitting the dataset for evaluation\n",
    "X_train, X_test, y_train, y_test = train_test_split(X, y, test_size=0.2, random_state=42)\n",
    "\n",
    "params = {\n",
    "    'n_estimators': [100, 300, 500],\n",
    "    'max_depth': [None, 10, 20, 30],\n",
    "    'min_samples_split': [2, 5, 10],\n",
    "    'min_samples_leaf': [1, 2, 4]\n",
    "}\n",
    "\n",
    "rf = RandomForestClassifier(random_state=42)\n",
    "grid_search = GridSearchCV(rf, params, cv=5)\n",
    "grid_search.fit(X, y)\n",
    "best_params = grid_search.best_params_\n",
    "\n",
    "#  Model Training\n",
    "final_rf_model = RandomForestClassifier(**best_params, random_state=42)\n",
    "final_rf_model.fit(X, y)\n",
    "\n",
    "\n",
    "# Predictions\n",
    "y_pred = final_rf_model.predict(X_test)\n",
    "\n",
    "# Evaluate the model\n",
    "accuracy = accuracy_score(y_test, y_pred)\n",
    "print(\"Accuracy:\", accuracy)\n",
    "\n",
    "\n",
    "# Print the best hyperparameters\n",
    "print(\"Best Hyperparameters for Random Forest:\", best_params)"
   ]
  },
  {
   "cell_type": "code",
   "execution_count": null,
   "id": "8vYFDoe09E5S",
   "metadata": {
    "colab": {
     "base_uri": "https://localhost:8080/"
    },
    "executionInfo": {
     "elapsed": 8964,
     "status": "ok",
     "timestamp": 1696813405997,
     "user": {
      "displayName": "21DSC205 M.GUNAAL",
      "userId": "04179252142214467485"
     },
     "user_tz": -330
    },
    "id": "8vYFDoe09E5S",
    "outputId": "384eda57-149a-4fd0-8825-92b22c374ed7"
   },
   "outputs": [],
   "source": [
    "import tensorflow as tf\n",
    "from tensorflow.keras.models import Sequential\n",
    "from tensorflow.keras.layers import Dense\n",
    "\n",
    "model = Sequential([\n",
    "    Dense(64, activation='relu', input_shape=(X_selected.shape[1],)),\n",
    "    Dense(32, activation='relu'),\n",
    "    Dense(1, activation='sigmoid')  # for binary classification\n",
    "])\n",
    "\n",
    "# Model Compilation\n",
    "model.compile(optimizer='adam', loss='binary_crossentropy', metrics=['accuracy'])\n",
    "\n",
    "# Model Training\n",
    "model.fit(X_selected, y, epochs=10, batch_size=32, validation_split=0.2)\n",
    "\n",
    "y_pred = final_model.predict(X_scaled)\n",
    "accuracy = accuracy_score(y, y_pred)\n",
    "print(\"Accuracy:\", accuracy)"
   ]
  },
  {
   "cell_type": "code",
   "execution_count": null,
   "id": "p6_6o3n29rK_",
   "metadata": {
    "colab": {
     "base_uri": "https://localhost:8080/"
    },
    "executionInfo": {
     "elapsed": 7690,
     "status": "ok",
     "timestamp": 1696813597949,
     "user": {
      "displayName": "21DSC205 M.GUNAAL",
      "userId": "04179252142214467485"
     },
     "user_tz": -330
    },
    "id": "p6_6o3n29rK_",
    "outputId": "cee15b6b-2299-4b39-8594-f6a011129868"
   },
   "outputs": [],
   "source": [
    "from sklearn.svm import SVC\n",
    "\n",
    "params = {\n",
    "    'C': [0.1, 1.0, 10.0],\n",
    "    'kernel': ['linear', 'rbf'],\n",
    "    'gamma': ['scale', 'auto']\n",
    "}\n",
    "\n",
    "svm = SVC()\n",
    "grid_search = GridSearchCV(svm, params, cv=5)\n",
    "grid_search.fit(X_selected, y)\n",
    "best_params = grid_search.best_params_\n",
    "\n",
    "# Step 4: Model Training\n",
    "final_svm_model = SVC(**best_params)\n",
    "final_svm_model.fit(X_selected, y)\n",
    "\n",
    "# Step 5: Model Evaluation\n",
    "\n",
    "y_pred = final_model.predict(X_scaled)\n",
    "accuracy = accuracy_score(y, y_pred)\n",
    "print(\"Accuracy:\", accuracy)# Step 6: Save the Final Model\n",
    "joblib.dump(final_svm_model, 'final_svm_model.joblib')\n",
    "\n",
    "# Print the best hyperparameters\n",
    "print(\"Best Hyperparameters for SVM:\", best_params)"
   ]
  },
  {
   "cell_type": "code",
   "execution_count": null,
   "id": "7502344f",
   "metadata": {},
   "outputs": [],
   "source": [
    "import joblib\n",
    "\n",
    "joblib.dump(final_rf_model,\"final_random_forest_model.joblib\")"
   ]
  },
  {
   "cell_type": "code",
   "execution_count": null,
   "id": "8fc6864a",
   "metadata": {},
   "outputs": [],
   "source": []
  }
 ],
 "metadata": {
  "colab": {
   "provenance": []
  },
  "kernelspec": {
   "display_name": "Python 3 (ipykernel)",
   "language": "python",
   "name": "python3"
  },
  "language_info": {
   "codemirror_mode": {
    "name": "ipython",
    "version": 3
   },
   "file_extension": ".py",
   "mimetype": "text/x-python",
   "name": "python",
   "nbconvert_exporter": "python",
   "pygments_lexer": "ipython3",
   "version": "3.11.5"
  }
 },
 "nbformat": 4,
 "nbformat_minor": 5
}
